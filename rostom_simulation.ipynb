{
 "cells": [
  {
   "cell_type": "code",
   "execution_count": 1,
   "metadata": {},
   "outputs": [],
   "source": [
    "import os, sys, glob\n",
    "import logging\n",
    "import numpy as np\n",
    "import pandas as pd\n",
    "import matplotlib\n",
    "from matplotlib.colors import LogNorm\n",
    "from matplotlib import pyplot as plt\n",
    "from scipy.interpolate import UnivariateSpline\n",
    "\n",
    "from signal_generator import SignalGenerator\n",
    "from background_generator import BackgroundGenerator\n",
    "from utils import bin_to_healpix"
   ]
  },
  {
   "cell_type": "markdown",
   "metadata": {},
   "source": [
    "# Instantiate the necessary objects\n",
    "\n",
    "Here we need to actually load the information from the IceCube 10 year public dataset. I have this stored in my own folders, so you'll need to download it yourself from IceCube's webpage:\n",
    "\n",
    "https://icecube.wisc.edu/data-releases/2021/01/all-sky-point-source-icecube-data-years-2008-2018/\n",
    "\n",
    "Once you have it, unzip the file and put the correct path below as \"public_data_directory\". We use the information contained in the public data to calculate effective areas, livetime, and smearing effects from true parameters to reconstructed events."
   ]
  },
  {
   "cell_type": "code",
   "execution_count": 2,
   "metadata": {},
   "outputs": [
    {
     "name": "stderr",
     "output_type": "stream",
     "text": [
      "/data/condor_builds/users/mlarson/public_data_trials/signal_generator.py:91: RuntimeWarning: divide by zero encountered in log\n",
      "  - np.cos(np.radians(smearing['AngErr_max[deg]'])))))\n"
     ]
    }
   ],
   "source": [
    "public_data_directory = \"../gxn/gXn_simulations/icecube_10year_ps/\"\n",
    "\n",
    "aeffs = sorted(glob.glob(os.path.join(public_data_directory, \"irfs/IC86_II_effectiveArea.csv\")))\n",
    "smearing = sorted(glob.glob(os.path.join(public_data_directory, \"irfs/IC86_II_smearing.csv\")))\n",
    "uptime = [os.path.join(public_data_directory, \"uptime/IC86_II_exp.csv\"),\n",
    "          os.path.join(public_data_directory, \"uptime/IC86_III_exp.csv\"),\n",
    "          os.path.join(public_data_directory, \"uptime/IC86_IV_exp.csv\"),\n",
    "          os.path.join(public_data_directory, \"uptime/IC86_V_exp.csv\"),\n",
    "          os.path.join(public_data_directory, \"uptime/IC86_VI_exp.csv\"),\n",
    "          os.path.join(public_data_directory, \"uptime/IC86_VII_exp.csv\")]\n",
    "data = [os.path.join(public_data_directory, \"events/IC86_II_exp.csv\"),\n",
    "        os.path.join(public_data_directory, \"events/IC86_III_exp.csv\"),\n",
    "        os.path.join(public_data_directory, \"events/IC86_IV_exp.csv\"),\n",
    "        os.path.join(public_data_directory, \"events/IC86_V_exp.csv\"),\n",
    "        os.path.join(public_data_directory, \"events/IC86_VI_exp.csv\"),\n",
    "        os.path.join(public_data_directory, \"events/IC86_VII_exp.csv\")]\n",
    "\n",
    "sigGen = SignalGenerator(aeffs, smearing, uptime,\n",
    "                        angular_resolution_scale=1.0)\n",
    "bgGen = BackgroundGenerator(data)\n"
   ]
  },
  {
   "cell_type": "markdown",
   "metadata": {},
   "source": [
    "# Define your flux function.\n",
    "\n",
    "We need a function here of the form \n",
    "\n",
    "    f(emin, emax) --> Phi (energy-integrated flux [1/cm2/s])\n",
    "    \n",
    "This function is used to calculate the total flux across each effective area bin. Once we have the energy-integrated flux, we calculate the expected events from each effective area bin\n",
    "\n",
    "    N_{bin} = Aeff_{bin} * f(emin_{bin}, emax_{bin}) * livetime\n",
    "    \n",
    "which we can use to generate true event energies from your given spectrum. Note that additional parameters in `f(emin, emax)` are fine as long as they have default values.\n",
    "\n",
    "In this particular example, we read fluxes from a provided csv file, interpolate, and integrate."
   ]
  },
  {
   "cell_type": "code",
   "execution_count": 3,
   "metadata": {},
   "outputs": [],
   "source": [
    "def integral_flux_from_file(emin, emax, \n",
    "                            normalization = 1, \n",
    "                            source_csv = \"nu_flux_q1.csv\"):\n",
    "    \"\"\"\n",
    "    Calculate the energy-integrated flux across an effective area bin in neutrino energy range [emin, emax]\n",
    "\n",
    "    Args:\n",
    "      emin: A Pandas Series containing minimum neutrino energies from the effective area\n",
    "      emax: A Pandas Series containing maximum neutrino energies from the effective area\n",
    "      normalization: A scale factor used to shift the flux up or down. \"1\" here means \"use values from the file\",\n",
    "          while \"0.5\" would mean \"simulate with 1/2 of the flux from the given file\".\n",
    "      source_csv: The path and name of the csv file to read flux values from. This parameter is tuned\n",
    "          to the file format given to me by Rostom [energy,e2f,e2f,e2f].\n",
    "        \n",
    "    Returns:\n",
    "      integrals: The energy-integrated flux across each given effective area bin.\n",
    "    \"\"\"\n",
    "    # De-Pandasify, since UnivariateSpline.integral() doesn't like Pandas Series objects\n",
    "    emin, emax = np.array(emin), np.array(emax)\n",
    "    \n",
    "    # Read the file and convert from E^2*flux to flux \n",
    "    energy_gev, e2_f_0001, e2_f_001, e2_f_01 = np.genfromtxt(source_csv, delimiter=',', skip_header=1).T\n",
    "    f = e2_f_01 / energy_gev**2 * normalization\n",
    "\n",
    "    # Spline (k=3) and integrate\n",
    "    spline = UnivariateSpline(energy_gev, f)\n",
    "        \n",
    "    # And integrate to return\n",
    "    integrals = [spline.integral(emin[_], emax[_]) for _ in range(len(emin))]\n",
    "    return np.array(integrals)"
   ]
  },
  {
   "cell_type": "code",
   "execution_count": null,
   "metadata": {},
   "outputs": [],
   "source": []
  },
  {
   "cell_type": "markdown",
   "metadata": {},
   "source": [
    "# Generate signal events\n",
    "\n",
    "Here we actually generate events from the position of CenA assuming the given model. The returned events are equivalent to what IceCube should expect to see, with true parameters (energy, direction) hidden and reconstructed parameters (energy proxy, best-fit direction, ect) provided."
   ]
  },
  {
   "cell_type": "code",
   "execution_count": 4,
   "metadata": {
    "scrolled": false
   },
   "outputs": [
    {
     "name": "stdout",
     "output_type": "stream",
     "text": [
      "Generated 210 signal events\n"
     ]
    },
    {
     "data": {
      "text/plain": [
       "Text(0,0.5,'Declination (Deg)')"
      ]
     },
     "execution_count": 4,
     "metadata": {},
     "output_type": "execute_result"
    },
    {
     "data": {
      "image/png": "[encoded data removed]",
      "text/plain": [
       "<Figure size 720x576 with 2 Axes>"
      ]
     },
     "metadata": {
      "needs_background": "light"
     },
     "output_type": "display_data"
    }
   ],
   "source": [
    "# -----------------------------------------------\n",
    "# Give the coordinates for CenA in degrees\n",
    "# -----------------------------------------------\n",
    "dec_deg, ra_deg = -43.0192, 201.3625\n",
    "\n",
    "# -----------------------------------------------\n",
    "# Actually produce IceCube signal events from the \n",
    "# public data and your choice of model\n",
    "# -----------------------------------------------\n",
    "events = sigGen.generate_pointsource(declination_deg = dec_deg, \n",
    "                                    right_ascension_deg = ra_deg,\n",
    "                                    integral_flux_function = integral_flux_from_file)\n",
    "print(\"Generated {} signal events\".format(len(events)))\n",
    "\n",
    "# For plotting, let's wrap the RA to be [0, 2pi]\n",
    "events['ra'] = events['ra'] % (2*np.pi)\n",
    "\n",
    "# -----------------------------------------------\n",
    "# Plot the true position of CenA\n",
    "# -----------------------------------------------\n",
    "fig, ax = plt.subplots(figsize=(10, 8))\n",
    "_ = ax.scatter(ra_deg, dec_deg, \n",
    "               color='k', \n",
    "               marker='*',\n",
    "               s=64,\n",
    "               label='Source',\n",
    "               zorder=100)\n",
    "\n",
    "# -----------------------------------------------\n",
    "# And the reconstructed position of each signal event\n",
    "# observed from this simulated trial\n",
    "# -----------------------------------------------\n",
    "ra_bins = np.linspace(ra_deg-5, ra_deg+5, 100)\n",
    "delta_dec = np.max(np.abs(dec_deg-np.degrees(events['dec'])))\n",
    "dec_bins = np.linspace(dec_deg-5, dec_deg+5, 100)\n",
    "\n",
    "h, _, _ = np.histogram2d(np.degrees(events['ra']),\n",
    "                         np.degrees(events['dec']),\n",
    "                         bins=(ra_bins, dec_bins))\n",
    "cmesh = ax.pcolormesh(ra_bins, dec_bins, h.T,\n",
    "                      norm=LogNorm()\n",
    "                      )\n",
    "cbar = plt.colorbar(cmesh, ax=ax)\n",
    "cbar.ax.set_ylabel('Number of generated events', fontsize=14)\n",
    "cbar.ax.tick_params(labelsize=14)\n",
    "\n",
    "\n",
    "# -----------------------------------------------\n",
    "# Label the plot and dress it up a bit\n",
    "# -----------------------------------------------\n",
    "ax.plot([],[], \n",
    "        color='w',\n",
    "        label=r'CenA signal trial, $\\xi$=0.1')\n",
    "ax.legend(loc='upper left', framealpha=1, fontsize=16)\n",
    "ax.grid(alpha=0.25)\n",
    "ax.set_xlim(ra_bins.min(), ra_bins.max())\n",
    "ax.set_ylim(dec_bins.min(), dec_bins.max())\n",
    "ax.tick_params(labelsize=14)\n",
    "ax.set_xlabel(\"RA (Deg)\", fontsize=14)\n",
    "ax.set_ylabel(r\"Declination (Deg)\", fontsize=14)"
   ]
  },
  {
   "cell_type": "code",
   "execution_count": null,
   "metadata": {},
   "outputs": [],
   "source": []
  },
  {
   "cell_type": "markdown",
   "metadata": {},
   "source": [
    "# Generate signal+bg events\n",
    "\n",
    "The previous block only generated signal events. Here, we overlay background events as well. For background, we follow IceCube's strategy of scrambling (= randomizing) the RA values, which works because of IceCube's unique location at the South Pole. "
   ]
  },
  {
   "cell_type": "code",
   "execution_count": 5,
   "metadata": {
    "scrolled": false
   },
   "outputs": [
    {
     "name": "stdout",
     "output_type": "stream",
     "text": [
      "Generated 218 signal events and 761380 total events across the full sky\n"
     ]
    },
    {
     "data": {
      "text/plain": [
       "Text(0,0.5,'Declination (Deg)')"
      ]
     },
     "execution_count": 5,
     "metadata": {},
     "output_type": "execute_result"
    },
    {
     "data": {
      "image/png": "[encoded data removed]",
      "text/plain": [
       "<Figure size 720x576 with 2 Axes>"
      ]
     },
     "metadata": {
      "needs_background": "light"
     },
     "output_type": "display_data"
    }
   ],
   "source": [
    "# -----------------------------------------------\n",
    "# Give the coordinates for CenA in degrees\n",
    "# -----------------------------------------------\n",
    "dec_deg, ra_deg = -43.0192, 201.3625\n",
    "\n",
    "# -----------------------------------------------\n",
    "# Actually produce IceCube signal events from the \n",
    "# public data and your choice of model\n",
    "# -----------------------------------------------\n",
    "sig_events = sigGen.generate_pointsource(declination_deg = dec_deg, \n",
    "                                        right_ascension_deg = ra_deg,\n",
    "                                        integral_flux_function = integral_flux_from_file)\n",
    "bg_events = bgGen.scramble()\n",
    "events = pd.concat((sig_events, bg_events))\n",
    "\n",
    "print(\"Generated {} signal events and {} total events across the full sky\".format(len(sig_events), \n",
    "                                                                                  len(events)))\n",
    "\n",
    "# For plotting, let's wrap the RA to be [0, 2pi]\n",
    "events['ra'] = events['ra'] % (2*np.pi)\n",
    "\n",
    "# -----------------------------------------------\n",
    "# Plot the true position of CenA\n",
    "# -----------------------------------------------\n",
    "fig, ax = plt.subplots(figsize=(10, 8))\n",
    "_ = ax.scatter(ra_deg, dec_deg, \n",
    "               color='k', \n",
    "               marker='*',\n",
    "               s=64,\n",
    "               label='Source',\n",
    "               zorder=100)\n",
    "\n",
    "# -----------------------------------------------\n",
    "# And the reconstructed position of each signal event\n",
    "# observed from this simulated trial\n",
    "# -----------------------------------------------\n",
    "ra_bins = np.linspace(ra_deg-5, ra_deg+5, 100)\n",
    "delta_dec = np.max(np.abs(dec_deg-np.degrees(events['dec'])))\n",
    "dec_bins = np.linspace(dec_deg-5, dec_deg+5, 100)\n",
    "\n",
    "h, _, _ = np.histogram2d(np.degrees(events['ra']),\n",
    "                         np.degrees(events['dec']),\n",
    "                         bins=(ra_bins, dec_bins))\n",
    "cmesh = ax.pcolormesh(ra_bins, dec_bins, h.T,\n",
    "                      norm=LogNorm()\n",
    "                      )\n",
    "cbar = plt.colorbar(cmesh, ax=ax)\n",
    "cbar.ax.set_ylabel('Number of generated events', fontsize=14)\n",
    "cbar.ax.tick_params(labelsize=14)\n",
    "\n",
    "# -----------------------------------------------\n",
    "# Label the plot and dress it up a bit\n",
    "# -----------------------------------------------\n",
    "ax.plot([],[], \n",
    "        color='w',\n",
    "        label=r'CenA signal+bg trial, $\\xi$=0.1')\n",
    "ax.legend(loc='upper left', framealpha=1, fontsize=16)\n",
    "ax.grid(alpha=0.25)\n",
    "ax.set_xlim(ra_bins.min(), ra_bins.max())\n",
    "ax.set_ylim(dec_bins.min(), dec_bins.max())\n",
    "ax.tick_params(labelsize=14)\n",
    "ax.set_xlabel(\"RA (Deg)\", fontsize=14)\n",
    "ax.set_ylabel(r\"Declination (Deg)\", fontsize=14)"
   ]
  },
  {
   "cell_type": "code",
   "execution_count": null,
   "metadata": {},
   "outputs": [],
   "source": []
  },
  {
   "cell_type": "code",
   "execution_count": null,
   "metadata": {
    "scrolled": false
   },
   "outputs": [],
   "source": []
  },
  {
   "cell_type": "code",
   "execution_count": null,
   "metadata": {
    "scrolled": false
   },
   "outputs": [],
   "source": []
  },
  {
   "cell_type": "code",
   "execution_count": null,
   "metadata": {},
   "outputs": [],
   "source": []
  }
 ],
 "metadata": {
  "kernelspec": {
   "display_name": "Python 3",
   "language": "python",
   "name": "python3"
  },
  "language_info": {
   "codemirror_mode": {
    "name": "ipython",
    "version": 3
   },
   "file_extension": ".py",
   "mimetype": "text/x-python",
   "name": "python",
   "nbconvert_exporter": "python",
   "pygments_lexer": "ipython3",
   "version": "3.7.5"
  }
 },
 "nbformat": 4,
 "nbformat_minor": 4
}
