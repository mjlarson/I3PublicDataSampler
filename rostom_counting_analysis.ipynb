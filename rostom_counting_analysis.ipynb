{
 "cells": [
  {
   "cell_type": "code",
   "execution_count": 1,
   "metadata": {},
   "outputs": [],
   "source": [
    "import os, sys, glob\n",
    "import logging\n",
    "import numpy as np\n",
    "import pandas as pd\n",
    "import matplotlib\n",
    "from matplotlib.colors import LogNorm\n",
    "from matplotlib import pyplot as plt\n",
    "from scipy.interpolate import UnivariateSpline\n",
    "\n",
    "from signal_generator import SignalGenerator\n",
    "from background_generator import BackgroundGenerator\n",
    "from utils import bin_to_healpix, ang_dist\n",
    "\n",
    "try:\n",
    "    from tqdm.notebook import tqdm\n",
    "except:\n",
    "    def tqdm(x):\n",
    "        for thing in x:\n",
    "            print(\".\", end='\\n')\n",
    "            yield thing"
   ]
  },
  {
   "cell_type": "markdown",
   "metadata": {},
   "source": [
    "# Instantiate the necessary objects\n",
    "\n",
    "Here we need to actually load the information from the IceCube 10 year public dataset. I have this stored in my own folders, so you'll need to download it yourself from IceCube's webpage:\n",
    "\n",
    "https://icecube.wisc.edu/data-releases/2021/01/all-sky-point-source-icecube-data-years-2008-2018/\n",
    "\n",
    "Once you have it, unzip the file and put the correct path below as \"public_data_directory\". We use the information contained in the public data to calculate effective areas, livetime, and smearing effects from true parameters to reconstructed events."
   ]
  },
  {
   "cell_type": "code",
   "execution_count": 2,
   "metadata": {},
   "outputs": [
    {
     "name": "stderr",
     "output_type": "stream",
     "text": [
      "/data/condor_builds/users/mlarson/public_data_trials/signal_generator.py:91: RuntimeWarning: divide by zero encountered in log\n",
      "  - np.cos(np.radians(smearing['AngErr_max[deg]'])))))\n"
     ]
    }
   ],
   "source": [
    "public_data_directory = \"../gxn/gXn_simulations/icecube_10year_ps/\"\n",
    "\n",
    "aeffs = sorted(glob.glob(os.path.join(public_data_directory, \"irfs/IC86_II_effectiveArea.csv\")))\n",
    "smearing = sorted(glob.glob(os.path.join(public_data_directory, \"irfs/IC86_II_smearing.csv\")))\n",
    "uptime = [os.path.join(public_data_directory, \"uptime/IC86_II_exp.csv\"),\n",
    "          os.path.join(public_data_directory, \"uptime/IC86_III_exp.csv\"),\n",
    "          os.path.join(public_data_directory, \"uptime/IC86_IV_exp.csv\"),\n",
    "          os.path.join(public_data_directory, \"uptime/IC86_V_exp.csv\"),\n",
    "          os.path.join(public_data_directory, \"uptime/IC86_VI_exp.csv\"),\n",
    "          os.path.join(public_data_directory, \"uptime/IC86_VII_exp.csv\")]\n",
    "data = [os.path.join(public_data_directory, \"events/IC86_II_exp.csv\"),\n",
    "        os.path.join(public_data_directory, \"events/IC86_III_exp.csv\"),\n",
    "        os.path.join(public_data_directory, \"events/IC86_IV_exp.csv\"),\n",
    "        os.path.join(public_data_directory, \"events/IC86_V_exp.csv\"),\n",
    "        os.path.join(public_data_directory, \"events/IC86_VI_exp.csv\"),\n",
    "        os.path.join(public_data_directory, \"events/IC86_VII_exp.csv\")]\n",
    "\n",
    "sigGen = SignalGenerator(aeffs, smearing, uptime,\n",
    "                        angular_resolution_scale=1.0)\n",
    "bgGen = BackgroundGenerator(data)\n"
   ]
  },
  {
   "cell_type": "markdown",
   "metadata": {},
   "source": [
    "# Define your flux function.\n",
    "\n",
    "We need a function here of the form \n",
    "\n",
    "    f(emin, emax) --> Phi (energy-integrated flux [1/cm2/s])\n",
    "    \n",
    "This function is used to calculate the total flux across each effective area bin. Once we have the energy-integrated flux, we calculate the expected events from each effective area bin\n",
    "\n",
    "    N_{bin} = Aeff_{bin} * f(emin_{bin}, emax_{bin}) * livetime\n",
    "    \n",
    "which we can use to generate true event energies from your given spectrum. Note that additional parameters in `f(emin, emax)` are fine as long as they have default values.\n",
    "\n",
    "In this particular example, we read fluxes from a provided csv file, interpolate, and integrate."
   ]
  },
  {
   "cell_type": "code",
   "execution_count": 3,
   "metadata": {},
   "outputs": [],
   "source": [
    "def integral_flux_from_file(emin, emax, \n",
    "                            energy_gev = None,\n",
    "                            e2_flux = None,\n",
    "                            source_csv = \"nu_flux_q1.csv\"):\n",
    "    \"\"\"\n",
    "    Calculate the energy-integrated flux across an effective area bin in neutrino energy range [emin, emax]\n",
    "\n",
    "    Args:\n",
    "      emin: A Pandas Series containing minimum neutrino energies from the effective area\n",
    "      emax: A Pandas Series containing maximum neutrino energies from the effective area\n",
    "      energy_gev, e2_flux: The energy and E^2*flux you want to use for simulation. We do it this\n",
    "            way so that we can explicitly choose the q and kappa we want to use.\n",
    "        \n",
    "    Returns:\n",
    "      integrals: The energy-integrated flux across each given effective area bin.\n",
    "    \"\"\"\n",
    "    # De-Pandasify, since UnivariateSpline.integral() doesn't like Pandas Series objects\n",
    "    emin, emax = np.array(emin), np.array(emax)\n",
    "    \n",
    "    # Convert from E^2*flux to flux \n",
    "    f = e2_flux / energy_gev**2 \n",
    "\n",
    "    # Spline (k=3) and integrate\n",
    "    spline = UnivariateSpline(energy_gev, f)\n",
    "        \n",
    "    # And integrate to return\n",
    "    integrals = [spline.integral(emin[_], emax[_]) for _ in range(len(emin))]\n",
    "    return np.array(integrals)"
   ]
  },
  {
   "cell_type": "code",
   "execution_count": null,
   "metadata": {},
   "outputs": [],
   "source": []
  },
  {
   "cell_type": "code",
   "execution_count": null,
   "metadata": {},
   "outputs": [],
   "source": []
  },
  {
   "cell_type": "markdown",
   "metadata": {},
   "source": [
    "# Generate signal events\n",
    "\n",
    "Here we actually generate events from the position of CenA assuming the given model. The returned events are equivalent to what IceCube should expect to see, with true parameters (energy, direction) hidden and reconstructed parameters (energy proxy, best-fit direction, ect) provided."
   ]
  },
  {
   "cell_type": "code",
   "execution_count": 11,
   "metadata": {
    "scrolled": false
   },
   "outputs": [
    {
     "name": "stdout",
     "output_type": "stream",
     "text": [
      "q=0, kappa=0\n"
     ]
    },
    {
     "data": {
      "application/vnd.jupyter.widget-view+json": {
       "model_id": "59f80ce2a7a040f69d873f850966452b",
       "version_major": 2,
       "version_minor": 0
      },
      "text/plain": [
       "  0%|          | 0/100 [00:00<?, ?it/s]"
      ]
     },
     "metadata": {},
     "output_type": "display_data"
    },
    {
     "name": "stdout",
     "output_type": "stream",
     "text": [
      "q=1, kappa=0.001\n"
     ]
    },
    {
     "data": {
      "application/vnd.jupyter.widget-view+json": {
       "model_id": "17636a6deffc4231b3f854d1fc94651c",
       "version_major": 2,
       "version_minor": 0
      },
      "text/plain": [
       "  0%|          | 0/100 [00:00<?, ?it/s]"
      ]
     },
     "metadata": {},
     "output_type": "display_data"
    },
    {
     "name": "stdout",
     "output_type": "stream",
     "text": [
      "q=1, kappa=0.01\n"
     ]
    },
    {
     "data": {
      "application/vnd.jupyter.widget-view+json": {
       "model_id": "1f323b3db01f4b9aae55c72bc0476763",
       "version_major": 2,
       "version_minor": 0
      },
      "text/plain": [
       "  0%|          | 0/100 [00:00<?, ?it/s]"
      ]
     },
     "metadata": {},
     "output_type": "display_data"
    },
    {
     "name": "stdout",
     "output_type": "stream",
     "text": [
      "q=1, kappa=0.1\n"
     ]
    },
    {
     "data": {
      "application/vnd.jupyter.widget-view+json": {
       "model_id": "4a62472c02ce406baf442cc12a498279",
       "version_major": 2,
       "version_minor": 0
      },
      "text/plain": [
       "  0%|          | 0/100 [00:00<?, ?it/s]"
      ]
     },
     "metadata": {},
     "output_type": "display_data"
    },
    {
     "name": "stdout",
     "output_type": "stream",
     "text": [
      "q=2, kappa=0.001\n"
     ]
    },
    {
     "data": {
      "application/vnd.jupyter.widget-view+json": {
       "model_id": "adf48bb9dbd04b288b629120fdc2e911",
       "version_major": 2,
       "version_minor": 0
      },
      "text/plain": [
       "  0%|          | 0/100 [00:00<?, ?it/s]"
      ]
     },
     "metadata": {},
     "output_type": "display_data"
    },
    {
     "name": "stdout",
     "output_type": "stream",
     "text": [
      "q=2, kappa=0.01\n"
     ]
    },
    {
     "data": {
      "application/vnd.jupyter.widget-view+json": {
       "model_id": "ebf51fcf01084468a9bdf10a1f89858b",
       "version_major": 2,
       "version_minor": 0
      },
      "text/plain": [
       "  0%|          | 0/100 [00:00<?, ?it/s]"
      ]
     },
     "metadata": {},
     "output_type": "display_data"
    },
    {
     "name": "stdout",
     "output_type": "stream",
     "text": [
      "q=2, kappa=0.1\n"
     ]
    },
    {
     "data": {
      "application/vnd.jupyter.widget-view+json": {
       "model_id": "3dc8a33ca4f947b699b200287de8aa46",
       "version_major": 2,
       "version_minor": 0
      },
      "text/plain": [
       "  0%|          | 0/100 [00:00<?, ?it/s]"
      ]
     },
     "metadata": {},
     "output_type": "display_data"
    }
   ],
   "source": [
    "# -----------------------------------------------\n",
    "# Give the coordinates for CenA in degrees\n",
    "# -----------------------------------------------\n",
    "cena_dec_deg, cena_ra_deg = -43.0192, 201.3625\n",
    "\n",
    "# -----------------------------------------------\n",
    "# Set the number of trials and make the appropriate data structures\n",
    "# -----------------------------------------------\n",
    "ntrials_per = 100\n",
    "distance_to_search = np.radians(1) \n",
    "results = {}\n",
    "\n",
    "# -----------------------------------------------\n",
    "# Run background-only trials at first.\n",
    "# We'll store the result in results[(0,0)]\n",
    "# where the (0,0) represents (q, kappa)\n",
    "# -----------------------------------------------\n",
    "kappa, q = 0, 0\n",
    "results[(q, kappa)] = []\n",
    "print('q={}, kappa={}'.format(0, 0))\n",
    "for trial in tqdm(range(ntrials_per)):\n",
    "    bg_events = bgGen.scramble()\n",
    "    distances = ang_dist(np.radians(cena_ra_deg),\n",
    "                         np.radians(cena_ra_deg),\n",
    "                         bg_events['ra'], bg_events['dec'])\n",
    "    results[(q, kappa)].append((distances < distance_to_search).sum())\n",
    "    \n",
    "# -----------------------------------------------\n",
    "# Actually produce IceCube signal events from the \n",
    "# public data and your choice of model\n",
    "# -----------------------------------------------\n",
    "for q in [1, 2]:\n",
    "    for index, kappa in enumerate([0.001, 0.01, 0.1]):\n",
    "        print('q={}, kappa={}'.format(q, kappa))\n",
    "        # -----------------------------------------------\n",
    "        # Use a lambda for the flux now. This gives us more control over which flux we want\n",
    "        # from the file when we run across multiple different fluxes.\n",
    "        # -----------------------------------------------\n",
    "        source_csv = \"./cenA_fluxes/nu_flux_q{}.csv\".format(q)\n",
    "        values_csv = np.genfromtxt(source_csv, delimiter=',', skip_header=1).T\n",
    "        energy_gev = values_csv[0]\n",
    "        e2_flux = values_csv[index+1]\n",
    "        integral_flux = lambda emin, emax: integral_flux_from_file(emin, emax, energy_gev, e2_flux)\n",
    "\n",
    "        # -----------------------------------------------\n",
    "        # Generate all of the trials that we want\n",
    "        # -----------------------------------------------\n",
    "        results[(q,kappa)] = []\n",
    "        for trial in tqdm(range(ntrials_per)):\n",
    "            sig_events = sigGen.generate_pointsource(declination_deg = cena_dec_deg, \n",
    "                                                    right_ascension_deg = cena_ra_deg,\n",
    "                                                    integral_flux_function = integral_flux)\n",
    "            bg_events = bgGen.scramble()\n",
    "            events = pd.concat((sig_events, bg_events))\n",
    "            distances = ang_dist(np.radians(cena_ra_deg),\n",
    "                                 np.radians(cena_ra_deg),\n",
    "                                 events['ra'], events['dec'])\n",
    "            results[(q,kappa)].append((distances < distance_to_search).sum())\n",
    "\n",
    "            \n",
    "# -----------------------------------------------\n",
    "# Convert results to numpy arrays\n",
    "# -----------------------------------------------\n",
    "for key in results.keys():\n",
    "    results[key] = np.array(results[key])"
   ]
  },
  {
   "cell_type": "code",
   "execution_count": null,
   "metadata": {},
   "outputs": [],
   "source": []
  },
  {
   "cell_type": "code",
   "execution_count": 14,
   "metadata": {
    "scrolled": false
   },
   "outputs": [
    {
     "data": {
      "image/png": "[encoded data removed]",
      "text/plain": [
       "<Figure size 1008x432 with 1 Axes>"
      ]
     },
     "metadata": {
      "needs_background": "light"
     },
     "output_type": "display_data"
    }
   ],
   "source": [
    "fig, ax = plt.subplots(figsize=(10,4))\n",
    "\n",
    "bins = np.linspace(0, 100, 26)\n",
    "\n",
    "for (q, kappa), counts in results.items():\n",
    "    ax.hist(counts,\n",
    "            bins=bins,\n",
    "            histtype='step',\n",
    "            linewidth=3,\n",
    "            alpha=0.8,\n",
    "            label = r'q={}, $\\kappa$={}'.format(q, kappa))\n",
    "ax.legend()\n",
    "ax.grid()\n"
   ]
  },
  {
   "cell_type": "code",
   "execution_count": null,
   "metadata": {
    "scrolled": false
   },
   "outputs": [],
   "source": []
  },
  {
   "cell_type": "markdown",
   "metadata": {},
   "source": [
    "# A mock-up of what we'd expect with higher kappas\n",
    "\n",
    "Here I'm going to assume that I can just scale the flux up to approximate increasing kappa"
   ]
  },
  {
   "cell_type": "code",
   "execution_count": 54,
   "metadata": {
    "scrolled": false
   },
   "outputs": [
    {
     "name": "stdout",
     "output_type": "stream",
     "text": [
      "q=0, kappa=0\n"
     ]
    },
    {
     "data": {
      "application/vnd.jupyter.widget-view+json": {
       "model_id": "9b82892637884520a7a5b9b9fb80ee0e",
       "version_major": 2,
       "version_minor": 0
      },
      "text/plain": [
       "  0%|          | 0/100 [00:00<?, ?it/s]"
      ]
     },
     "metadata": {},
     "output_type": "display_data"
    },
    {
     "name": "stdout",
     "output_type": "stream",
     "text": [
      "q=1, kappa=0.01\n"
     ]
    },
    {
     "data": {
      "application/vnd.jupyter.widget-view+json": {
       "model_id": "546fcf0f6c1f43478c0a7040c099fb89",
       "version_major": 2,
       "version_minor": 0
      },
      "text/plain": [
       "  0%|          | 0/100 [00:00<?, ?it/s]"
      ]
     },
     "metadata": {},
     "output_type": "display_data"
    },
    {
     "name": "stdout",
     "output_type": "stream",
     "text": [
      "q=1, kappa=0.1\n"
     ]
    },
    {
     "data": {
      "application/vnd.jupyter.widget-view+json": {
       "model_id": "b35ce1e905bf4d808598fea67bf4c24e",
       "version_major": 2,
       "version_minor": 0
      },
      "text/plain": [
       "  0%|          | 0/100 [00:00<?, ?it/s]"
      ]
     },
     "metadata": {},
     "output_type": "display_data"
    },
    {
     "name": "stdout",
     "output_type": "stream",
     "text": [
      "q=1, kappa=1.0\n"
     ]
    },
    {
     "data": {
      "application/vnd.jupyter.widget-view+json": {
       "model_id": "d2cc797bac574b57b2170005b9d4508f",
       "version_major": 2,
       "version_minor": 0
      },
      "text/plain": [
       "  0%|          | 0/100 [00:00<?, ?it/s]"
      ]
     },
     "metadata": {},
     "output_type": "display_data"
    },
    {
     "name": "stdout",
     "output_type": "stream",
     "text": [
      "q=1, kappa=10.0\n"
     ]
    },
    {
     "data": {
      "application/vnd.jupyter.widget-view+json": {
       "model_id": "a2f1ad5e9e344821ac59af645d005789",
       "version_major": 2,
       "version_minor": 0
      },
      "text/plain": [
       "  0%|          | 0/100 [00:00<?, ?it/s]"
      ]
     },
     "metadata": {},
     "output_type": "display_data"
    },
    {
     "name": "stdout",
     "output_type": "stream",
     "text": [
      "q=2, kappa=0.01\n"
     ]
    },
    {
     "data": {
      "application/vnd.jupyter.widget-view+json": {
       "model_id": "b3993a266a0b47bfbe1ddce715d82482",
       "version_major": 2,
       "version_minor": 0
      },
      "text/plain": [
       "  0%|          | 0/100 [00:00<?, ?it/s]"
      ]
     },
     "metadata": {},
     "output_type": "display_data"
    },
    {
     "name": "stdout",
     "output_type": "stream",
     "text": [
      "q=2, kappa=0.1\n"
     ]
    },
    {
     "data": {
      "application/vnd.jupyter.widget-view+json": {
       "model_id": "1a114f0b9f444412b4315a8ca8e6163d",
       "version_major": 2,
       "version_minor": 0
      },
      "text/plain": [
       "  0%|          | 0/100 [00:00<?, ?it/s]"
      ]
     },
     "metadata": {},
     "output_type": "display_data"
    },
    {
     "name": "stdout",
     "output_type": "stream",
     "text": [
      "q=2, kappa=1.0\n"
     ]
    },
    {
     "data": {
      "application/vnd.jupyter.widget-view+json": {
       "model_id": "0969f01881ab420a9548151cac2630af",
       "version_major": 2,
       "version_minor": 0
      },
      "text/plain": [
       "  0%|          | 0/100 [00:00<?, ?it/s]"
      ]
     },
     "metadata": {},
     "output_type": "display_data"
    },
    {
     "name": "stdout",
     "output_type": "stream",
     "text": [
      "q=2, kappa=10.0\n"
     ]
    },
    {
     "data": {
      "application/vnd.jupyter.widget-view+json": {
       "model_id": "889f49dc1730467b96a33114b3938cd6",
       "version_major": 2,
       "version_minor": 0
      },
      "text/plain": [
       "  0%|          | 0/100 [00:00<?, ?it/s]"
      ]
     },
     "metadata": {},
     "output_type": "display_data"
    }
   ],
   "source": [
    "# -----------------------------------------------\n",
    "# Give the coordinates for CenA in degrees\n",
    "# -----------------------------------------------\n",
    "cena_dec_deg, cena_ra_deg = -43.0192, 201.3625\n",
    "\n",
    "# -----------------------------------------------\n",
    "# Set the number of trials and make the appropriate data structures\n",
    "# -----------------------------------------------\n",
    "ntrials_per = 100\n",
    "distance_to_search = np.radians(1) \n",
    "results = {}\n",
    "\n",
    "# -----------------------------------------------\n",
    "# Run background-only trials at first.\n",
    "# We'll store the result in results[(0,0)]\n",
    "# where the (0,0) represents (q, kappa)\n",
    "# -----------------------------------------------\n",
    "kappa, q = 0, 0\n",
    "results[(q, kappa)] = []\n",
    "print('q={}, kappa={}'.format(0, 0))\n",
    "for trial in tqdm(range(ntrials_per)):\n",
    "    bg_events = bgGen.scramble()\n",
    "    distances = ang_dist(np.radians(cena_ra_deg),\n",
    "                         np.radians(cena_ra_deg),\n",
    "                         bg_events['ra'], bg_events['dec'])\n",
    "    results[(q, kappa)].append((distances < distance_to_search).sum())\n",
    "    \n",
    "# -----------------------------------------------\n",
    "# Actually produce IceCube signal events from the \n",
    "# public data and your choice of model\n",
    "# -----------------------------------------------\n",
    "for q in [1, 2]:\n",
    "    index = 1\n",
    "    original_kappa = 0.01\n",
    "    \n",
    "    for kappa_scale in [1, 10, 100, 1000]:\n",
    "        kappa = original_kappa * kappa_scale\n",
    "        print('q={}, kappa={}'.format(q, kappa))\n",
    "        # -----------------------------------------------\n",
    "        # Use a lambda for the flux now. This gives us more control over which flux we want\n",
    "        # from the file when we run across multiple different fluxes.\n",
    "        # -----------------------------------------------\n",
    "        source_csv = \"./cenA_fluxes/nu_flux_q{}.csv\".format(q)\n",
    "        values_csv = np.genfromtxt(source_csv, delimiter=',', skip_header=1).T\n",
    "        energy_gev = values_csv[0]\n",
    "        e2_flux = values_csv[index+1] * kappa_scale\n",
    "        integral_flux = lambda emin, emax: integral_flux_from_file(emin, emax, energy_gev, e2_flux)\n",
    "\n",
    "        # -----------------------------------------------\n",
    "        # Generate all of the trials that we want\n",
    "        # -----------------------------------------------\n",
    "        results[(q,kappa)] = []\n",
    "        for trial in tqdm(range(ntrials_per)):\n",
    "            sig_events = sigGen.generate_pointsource(declination_deg = cena_dec_deg, \n",
    "                                                    right_ascension_deg = cena_ra_deg,\n",
    "                                                    integral_flux_function = integral_flux)\n",
    "            bg_events = bgGen.scramble()\n",
    "            events = pd.concat((sig_events, bg_events))\n",
    "\n",
    "            sig_events['ra'] %= 2*np.pi\n",
    "            ra, dec = sig_events['ra'], sig_events['dec']\n",
    "            \n",
    "            distances = ang_dist(np.radians(cena_ra_deg),\n",
    "                                 np.radians(cena_dec_deg),\n",
    "                                 events['ra'], events['dec'])\n",
    "            results[(q,kappa)].append((distances < distance_to_search).sum())\n",
    "\n",
    "# -----------------------------------------------\n",
    "# Convert results to numpy arrays\n",
    "# -----------------------------------------------\n",
    "for key in results.keys():\n",
    "    results[key] = np.array(results[key])"
   ]
  },
  {
   "cell_type": "code",
   "execution_count": 55,
   "metadata": {},
   "outputs": [
    {
     "name": "stdout",
     "output_type": "stream",
     "text": [
      "(0, 0) 35.47\n",
      "(1, 0.01) 53.99\n",
      "(1, 0.1) 212.6\n",
      "(1, 1.0) 1833.35\n",
      "(1, 10.0) 17965.31\n",
      "(2, 0.01) 35.47\n",
      "(2, 0.1) 36.04\n",
      "(2, 1.0) 39.64\n",
      "(2, 10.0) 72.22\n"
     ]
    }
   ],
   "source": [
    "for key in results:\n",
    "    print(key, results[key].mean())"
   ]
  },
  {
   "cell_type": "code",
   "execution_count": 73,
   "metadata": {},
   "outputs": [
    {
     "data": {
      "text/plain": [
       "Text(0,0.5,'Number of trials')"
      ]
     },
     "execution_count": 73,
     "metadata": {},
     "output_type": "execute_result"
    },
    {
     "data": {
      "image/png": "[encoded data removed]",
      "text/plain": [
       "<Figure size 1080x504 with 2 Axes>"
      ]
     },
     "metadata": {
      "needs_background": "light"
     },
     "output_type": "display_data"
    }
   ],
   "source": [
    "fig, (ax1, ax2) = plt.subplots(1, 2, figsize=(15,7))\n",
    "\n",
    "bins_q1 = np.logspace(1, 5, 51)\n",
    "bins_q2 = np.linspace(0, 100, 26)\n",
    "\n",
    "# --------------------------------------------\n",
    "# Plot background-only cases for q=1 and q=2\n",
    "# --------------------------------------------\n",
    "background = results[(0,0)]\n",
    "ax1.hist(background,\n",
    "         bins=bins_q1,\n",
    "         histtype='step',\n",
    "         linewidth=4,\n",
    "         color='k',\n",
    "         alpha=0.8,\n",
    "         label=r'q=0, $\\kappa$=0',\n",
    "         zorder=100,)\n",
    "ax2.hist(background,\n",
    "         bins=bins_q2,\n",
    "         histtype='step',\n",
    "         linewidth=4,\n",
    "         color='k',\n",
    "         alpha=0.8,\n",
    "         label=r'q=0, $\\kappa$=0',\n",
    "         zorder=100,)\n",
    "\n",
    "# --------------------------------------------\n",
    "# And now plot the actual signal+background trials\n",
    "# --------------------------------------------\n",
    "for (q, kappa), counts in results.items():\n",
    "    if q==1: \n",
    "        ax=ax1\n",
    "        bins=bins_q1\n",
    "    elif q==2: \n",
    "        ax=ax2\n",
    "        bins=bins_q2\n",
    "    else: continue\n",
    "        \n",
    "    ax.hist(counts,\n",
    "            bins=bins,\n",
    "            histtype='step',\n",
    "            linewidth=3,\n",
    "            alpha=0.8,\n",
    "            label = r'q={}, $\\kappa$={}'.format(q, kappa))\n",
    "\n",
    "# --------------------------------------------\n",
    "# Clean up the plots\n",
    "# --------------------------------------------\n",
    "ax1.legend(ncol=2, fontsize=14, framealpha=1)\n",
    "ax1.grid(alpha=0.5)\n",
    "ax1.tick_params(labelsize=14)\n",
    "ax1.set_xscale('log')\n",
    "ax1.set_ylim(ymax=ax1.set_ylim()[1]*1.25)\n",
    "ax1.set_xlabel(\"Events within {} degrees\".format(np.degrees(distance_to_search)), fontsize=16)\n",
    "ax1.set_ylabel(\"Number of trials\", fontsize=16)\n",
    "\n",
    "ax2.legend(ncol=2, fontsize=14, framealpha=1)\n",
    "ax2.grid(alpha=0.5)\n",
    "ax2.tick_params(labelsize=14)\n",
    "ax2.set_ylim(ymax=ax2.set_ylim()[1]*1.25)\n",
    "ax2.set_xlabel(\"Events within {} degrees\".format(np.degrees(distance_to_search)), fontsize=16)\n",
    "ax2.set_ylabel(\"Number of trials\", fontsize=16)\n"
   ]
  },
  {
   "cell_type": "code",
   "execution_count": null,
   "metadata": {},
   "outputs": [],
   "source": []
  },
  {
   "cell_type": "code",
   "execution_count": null,
   "metadata": {},
   "outputs": [],
   "source": []
  }
 ],
 "metadata": {
  "kernelspec": {
   "display_name": "Python 3",
   "language": "python",
   "name": "python3"
  },
  "language_info": {
   "codemirror_mode": {
    "name": "ipython",
    "version": 3
   },
   "file_extension": ".py",
   "mimetype": "text/x-python",
   "name": "python",
   "nbconvert_exporter": "python",
   "pygments_lexer": "ipython3",
   "version": "3.7.5"
  }
 },
 "nbformat": 4,
 "nbformat_minor": 4
}
