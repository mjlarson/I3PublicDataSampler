{
 "cells": [
  {
   "cell_type": "code",
   "execution_count": 1,
   "metadata": {},
   "outputs": [],
   "source": [
    "import os, sys, glob\n",
    "import logging\n",
    "import numpy as np\n",
    "import matplotlib\n",
    "from matplotlib.colors import LogNorm\n",
    "from matplotlib import pyplot as plt\n",
    "\n",
    "from scipy.optimize import minimize\n",
    "\n",
    "import numba\n",
    "\n",
    "import utils\n",
    "from signal_generator import SignalGenerator\n",
    "from background_generator import BackgroundGenerator"
   ]
  },
  {
   "cell_type": "code",
   "execution_count": null,
   "metadata": {},
   "outputs": [],
   "source": []
  },
  {
   "cell_type": "code",
   "execution_count": 43,
   "metadata": {},
   "outputs": [],
   "source": [
    "class pointsource_analysis:\n",
    "    def __init__(self, angular_window_deg=10):\n",
    "        public_data_directory = \"../gxn/gXn_simulations/icecube_10year_ps/\"\n",
    "\n",
    "        aeffs = sorted(glob.glob(os.path.join(public_data_directory, \n",
    "                                              \"irfs/IC86_II_effectiveArea.csv\")))\n",
    "        smearing = sorted(glob.glob(os.path.join(public_data_directory, \n",
    "                                                 \"irfs/IC86_II_smearing.csv\")))\n",
    "        uptime = [os.path.join(public_data_directory, \"uptime/IC86_II_exp.csv\"),\n",
    "                  os.path.join(public_data_directory, \"uptime/IC86_III_exp.csv\"),\n",
    "                  os.path.join(public_data_directory, \"uptime/IC86_IV_exp.csv\"),\n",
    "                  os.path.join(public_data_directory, \"uptime/IC86_V_exp.csv\"),\n",
    "                  os.path.join(public_data_directory, \"uptime/IC86_VI_exp.csv\"),\n",
    "                  os.path.join(public_data_directory, \"uptime/IC86_VII_exp.csv\")]\n",
    "        data = [os.path.join(public_data_directory, \"events/IC86_II_exp.csv\"),\n",
    "                os.path.join(public_data_directory, \"events/IC86_III_exp.csv\"),\n",
    "                os.path.join(public_data_directory, \"events/IC86_IV_exp.csv\"),\n",
    "                os.path.join(public_data_directory, \"events/IC86_V_exp.csv\"),\n",
    "                os.path.join(public_data_directory, \"events/IC86_VI_exp.csv\"),\n",
    "                os.path.join(public_data_directory, \"events/IC86_VII_exp.csv\")]\n",
    "\n",
    "        self.sig_gen = SignalGenerator(aeffs, smearing, uptime,\n",
    "                            angular_resolution_scale=1.0)\n",
    "        self.bg_gen = BackgroundGenerator(data)\n",
    "        self.angular_window_deg = angular_window_deg\n",
    "\n",
    "        return\n",
    "    \n",
    "    def one_trial(self, dec_deg ,ra_deg, integrated_flux):\n",
    "        signal = self.sig_gen.generate_pointsource(declination_deg = dec_deg, \n",
    "                                    right_ascension_deg = ra_deg,\n",
    "                                    integral_flux_function = integrated_flux)\n",
    "        background = self.bg_gen.scramble()\n",
    "        print(len(background), len(signal))\n",
    "        return np.concatenate((background.to_records(),\n",
    "                               signal.to_records()))\n",
    "        \n",
    "    def _trim(self, events, dec_deg, ra_deg, angle_deg=10):\n",
    "        dist = utils.ang_dist(np.radians(ra_deg),\n",
    "                      np.radians(dec_deg),\n",
    "                      events['ra'], events['dec'])\n",
    "        return events[dist < np.radians(angle_deg)]\n",
    "        \n",
    "    def calculate_sob(self, events, dec_deg, ra_deg, integrated_flux):\n",
    "        S = self.sig_gen.pdf_pointsource(events,\n",
    "                                          declination_deg = dec_deg, \n",
    "                                          right_ascension_deg = ra_deg,\n",
    "                                          integral_flux_function = integrated_flux)\n",
    "        Snllh = np.log(S)\n",
    "        Bnllh = self.bg_gen.logpdf(events['logE'], np.sin(events['dec'])) - np.log(2*np.pi) \n",
    "        sob = Snllh-Bnllh \n",
    "        sob[~np.isfinite(sob)] = sob[np.isfinite(sob)].max()\n",
    "        return sob\n",
    "    \n",
    "    def fit(self, events, dec_deg, ra_deg, integrated_flux):\n",
    "        events = self._trim(events, dec_deg, ra_deg, self.angular_window_deg)\n",
    "        print(len(events))\n",
    "        def ts(x):\n",
    "            ns, gamma = x\n",
    "            f = lambda emin, emax: integrated_flux(emin, emax, \n",
    "                                                   normalization = 1,\n",
    "                                                   index = gamma)\n",
    "            sob = np.exp(self.calculate_sob(events, dec_deg, ra_deg, f))\n",
    "            llh = np.log(ns/len(events) * (sob-1) + 1)\n",
    "            #llh = np.nan_to_num(llh)\n",
    "            return -llh.sum()\n",
    "        \n",
    "        results = minimize(ts, [1, -2], method='SLSQP',\n",
    "                           bounds = [(0, len(events)), (-4, -1)])\n",
    "        return results.x, results.fun\n",
    "    "
   ]
  },
  {
   "cell_type": "code",
   "execution_count": 44,
   "metadata": {},
   "outputs": [],
   "source": [
    "x = pointsource_analysis(angular_window_deg=10)"
   ]
  },
  {
   "cell_type": "code",
   "execution_count": 45,
   "metadata": {
    "scrolled": false
   },
   "outputs": [
    {
     "name": "stdout",
     "output_type": "stream",
     "text": [
      "761162 14\n",
      "8190\n"
     ]
    },
    {
     "name": "stderr",
     "output_type": "stream",
     "text": [
      "/data/i3home/mjlarson/.local/lib/python3.7/site-packages/ipykernel_launcher.py:49: RuntimeWarning: divide by zero encountered in log\n",
      "/cvmfs/icecube.opensciencegrid.org/py3-v4.1.0/Ubuntu_18.04_x86_64/lib/python3.7/site-packages/scipy/optimize/slsqp.py:63: RuntimeWarning: invalid value encountered in subtract\n",
      "  jac[i] = (func(*((x0+dx,)+args)) - f0)/epsilon\n"
     ]
    },
    {
     "ename": "ValueError",
     "evalue": "zero-size array to reduction operation maximum which has no identity",
     "output_type": "error",
     "traceback": [
      "\u001b[0;31m---------------------------------------------------------------------------\u001b[0m",
      "\u001b[0;31mValueError\u001b[0m                                Traceback (most recent call last)",
      "\u001b[0;32m<ipython-input-45-4f59c3c5242c>\u001b[0m in \u001b[0;36m<module>\u001b[0;34m\u001b[0m\n\u001b[1;32m     21\u001b[0m \u001b[0;34m\u001b[0m\u001b[0m\n\u001b[1;32m     22\u001b[0m \u001b[0;31m# Fit it!\u001b[0m\u001b[0;34m\u001b[0m\u001b[0;34m\u001b[0m\u001b[0;34m\u001b[0m\u001b[0m\n\u001b[0;32m---> 23\u001b[0;31m \u001b[0mx\u001b[0m\u001b[0;34m.\u001b[0m\u001b[0mfit\u001b[0m\u001b[0;34m(\u001b[0m\u001b[0mevents\u001b[0m\u001b[0;34m,\u001b[0m \u001b[0;34m*\u001b[0m\u001b[0mfit_args\u001b[0m\u001b[0;34m)\u001b[0m\u001b[0;34m\u001b[0m\u001b[0;34m\u001b[0m\u001b[0m\n\u001b[0m\u001b[1;32m     24\u001b[0m \u001b[0;34m\u001b[0m\u001b[0m\n\u001b[1;32m     25\u001b[0m \u001b[0;31m#fig, ax = plt.subplots()\u001b[0m\u001b[0;34m\u001b[0m\u001b[0;34m\u001b[0m\u001b[0;34m\u001b[0m\u001b[0m\n",
      "\u001b[0;32m<ipython-input-43-ec549f1bdb89>\u001b[0m in \u001b[0;36mfit\u001b[0;34m(self, events, dec_deg, ra_deg, integrated_flux)\u001b[0m\n\u001b[1;32m     67\u001b[0m \u001b[0;34m\u001b[0m\u001b[0m\n\u001b[1;32m     68\u001b[0m         results = minimize(ts, [1, -2], method='SLSQP',\n\u001b[0;32m---> 69\u001b[0;31m                            bounds = [(0, len(events)), (-4, -1)])\n\u001b[0m\u001b[1;32m     70\u001b[0m         \u001b[0;32mreturn\u001b[0m \u001b[0mresults\u001b[0m\u001b[0;34m.\u001b[0m\u001b[0mx\u001b[0m\u001b[0;34m,\u001b[0m \u001b[0mresults\u001b[0m\u001b[0;34m.\u001b[0m\u001b[0mfun\u001b[0m\u001b[0;34m\u001b[0m\u001b[0;34m\u001b[0m\u001b[0m\n\u001b[1;32m     71\u001b[0m \u001b[0;34m\u001b[0m\u001b[0m\n",
      "\u001b[0;32m/cvmfs/icecube.opensciencegrid.org/py3-v4.1.0/Ubuntu_18.04_x86_64/lib/python3.7/site-packages/scipy/optimize/_minimize.py\u001b[0m in \u001b[0;36mminimize\u001b[0;34m(fun, x0, args, method, jac, hess, hessp, bounds, constraints, tol, callback, options)\u001b[0m\n\u001b[1;32m    606\u001b[0m     \u001b[0;32melif\u001b[0m \u001b[0mmeth\u001b[0m \u001b[0;34m==\u001b[0m \u001b[0;34m'slsqp'\u001b[0m\u001b[0;34m:\u001b[0m\u001b[0;34m\u001b[0m\u001b[0;34m\u001b[0m\u001b[0m\n\u001b[1;32m    607\u001b[0m         return _minimize_slsqp(fun, x0, args, jac, bounds,\n\u001b[0;32m--> 608\u001b[0;31m                                constraints, callback=callback, **options)\n\u001b[0m\u001b[1;32m    609\u001b[0m     \u001b[0;32melif\u001b[0m \u001b[0mmeth\u001b[0m \u001b[0;34m==\u001b[0m \u001b[0;34m'trust-constr'\u001b[0m\u001b[0;34m:\u001b[0m\u001b[0;34m\u001b[0m\u001b[0;34m\u001b[0m\u001b[0m\n\u001b[1;32m    610\u001b[0m         return _minimize_trustregion_constr(fun, x0, args, jac, hess, hessp,\n",
      "\u001b[0;32m/cvmfs/icecube.opensciencegrid.org/py3-v4.1.0/Ubuntu_18.04_x86_64/lib/python3.7/site-packages/scipy/optimize/slsqp.py\u001b[0m in \u001b[0;36m_minimize_slsqp\u001b[0;34m(func, x0, args, jac, bounds, constraints, maxiter, ftol, iprint, disp, eps, callback, **unknown_options)\u001b[0m\n\u001b[1;32m    397\u001b[0m \u001b[0;34m\u001b[0m\u001b[0m\n\u001b[1;32m    398\u001b[0m             \u001b[0;31m# Compute objective function\u001b[0m\u001b[0;34m\u001b[0m\u001b[0;34m\u001b[0m\u001b[0;34m\u001b[0m\u001b[0m\n\u001b[0;32m--> 399\u001b[0;31m             \u001b[0mfx\u001b[0m \u001b[0;34m=\u001b[0m \u001b[0mfunc\u001b[0m\u001b[0;34m(\u001b[0m\u001b[0mx\u001b[0m\u001b[0;34m)\u001b[0m\u001b[0;34m\u001b[0m\u001b[0;34m\u001b[0m\u001b[0m\n\u001b[0m\u001b[1;32m    400\u001b[0m             \u001b[0;32mtry\u001b[0m\u001b[0;34m:\u001b[0m\u001b[0;34m\u001b[0m\u001b[0;34m\u001b[0m\u001b[0m\n\u001b[1;32m    401\u001b[0m                 \u001b[0mfx\u001b[0m \u001b[0;34m=\u001b[0m \u001b[0mfloat\u001b[0m\u001b[0;34m(\u001b[0m\u001b[0mnp\u001b[0m\u001b[0;34m.\u001b[0m\u001b[0masarray\u001b[0m\u001b[0;34m(\u001b[0m\u001b[0mfx\u001b[0m\u001b[0;34m)\u001b[0m\u001b[0;34m)\u001b[0m\u001b[0;34m\u001b[0m\u001b[0;34m\u001b[0m\u001b[0m\n",
      "\u001b[0;32m/cvmfs/icecube.opensciencegrid.org/py3-v4.1.0/Ubuntu_18.04_x86_64/lib/python3.7/site-packages/scipy/optimize/optimize.py\u001b[0m in \u001b[0;36mfunction_wrapper\u001b[0;34m(*wrapper_args)\u001b[0m\n\u001b[1;32m    325\u001b[0m     \u001b[0;32mdef\u001b[0m \u001b[0mfunction_wrapper\u001b[0m\u001b[0;34m(\u001b[0m\u001b[0;34m*\u001b[0m\u001b[0mwrapper_args\u001b[0m\u001b[0;34m)\u001b[0m\u001b[0;34m:\u001b[0m\u001b[0;34m\u001b[0m\u001b[0;34m\u001b[0m\u001b[0m\n\u001b[1;32m    326\u001b[0m         \u001b[0mncalls\u001b[0m\u001b[0;34m[\u001b[0m\u001b[0;36m0\u001b[0m\u001b[0;34m]\u001b[0m \u001b[0;34m+=\u001b[0m \u001b[0;36m1\u001b[0m\u001b[0;34m\u001b[0m\u001b[0;34m\u001b[0m\u001b[0m\n\u001b[0;32m--> 327\u001b[0;31m         \u001b[0;32mreturn\u001b[0m \u001b[0mfunction\u001b[0m\u001b[0;34m(\u001b[0m\u001b[0;34m*\u001b[0m\u001b[0;34m(\u001b[0m\u001b[0mwrapper_args\u001b[0m \u001b[0;34m+\u001b[0m \u001b[0margs\u001b[0m\u001b[0;34m)\u001b[0m\u001b[0;34m)\u001b[0m\u001b[0;34m\u001b[0m\u001b[0;34m\u001b[0m\u001b[0m\n\u001b[0m\u001b[1;32m    328\u001b[0m \u001b[0;34m\u001b[0m\u001b[0m\n\u001b[1;32m    329\u001b[0m     \u001b[0;32mreturn\u001b[0m \u001b[0mncalls\u001b[0m\u001b[0;34m,\u001b[0m \u001b[0mfunction_wrapper\u001b[0m\u001b[0;34m\u001b[0m\u001b[0;34m\u001b[0m\u001b[0m\n",
      "\u001b[0;32m<ipython-input-43-ec549f1bdb89>\u001b[0m in \u001b[0;36mts\u001b[0;34m(x)\u001b[0m\n\u001b[1;32m     61\u001b[0m                                                    \u001b[0mnormalization\u001b[0m \u001b[0;34m=\u001b[0m \u001b[0;36m1\u001b[0m\u001b[0;34m,\u001b[0m\u001b[0;34m\u001b[0m\u001b[0;34m\u001b[0m\u001b[0m\n\u001b[1;32m     62\u001b[0m                                                    index = gamma)\n\u001b[0;32m---> 63\u001b[0;31m             \u001b[0msob\u001b[0m \u001b[0;34m=\u001b[0m \u001b[0mnp\u001b[0m\u001b[0;34m.\u001b[0m\u001b[0mexp\u001b[0m\u001b[0;34m(\u001b[0m\u001b[0mself\u001b[0m\u001b[0;34m.\u001b[0m\u001b[0mcalculate_sob\u001b[0m\u001b[0;34m(\u001b[0m\u001b[0mevents\u001b[0m\u001b[0;34m,\u001b[0m \u001b[0mdec_deg\u001b[0m\u001b[0;34m,\u001b[0m \u001b[0mra_deg\u001b[0m\u001b[0;34m,\u001b[0m \u001b[0mf\u001b[0m\u001b[0;34m)\u001b[0m\u001b[0;34m)\u001b[0m\u001b[0;34m\u001b[0m\u001b[0;34m\u001b[0m\u001b[0m\n\u001b[0m\u001b[1;32m     64\u001b[0m             \u001b[0mllh\u001b[0m \u001b[0;34m=\u001b[0m \u001b[0mnp\u001b[0m\u001b[0;34m.\u001b[0m\u001b[0mlog\u001b[0m\u001b[0;34m(\u001b[0m\u001b[0mns\u001b[0m\u001b[0;34m/\u001b[0m\u001b[0mlen\u001b[0m\u001b[0;34m(\u001b[0m\u001b[0mevents\u001b[0m\u001b[0;34m)\u001b[0m \u001b[0;34m*\u001b[0m \u001b[0;34m(\u001b[0m\u001b[0msob\u001b[0m\u001b[0;34m-\u001b[0m\u001b[0;36m1\u001b[0m\u001b[0;34m)\u001b[0m \u001b[0;34m+\u001b[0m \u001b[0;36m1\u001b[0m\u001b[0;34m)\u001b[0m\u001b[0;34m\u001b[0m\u001b[0;34m\u001b[0m\u001b[0m\n\u001b[1;32m     65\u001b[0m             \u001b[0;31m#llh = np.nan_to_num(llh)\u001b[0m\u001b[0;34m\u001b[0m\u001b[0;34m\u001b[0m\u001b[0;34m\u001b[0m\u001b[0m\n",
      "\u001b[0;32m<ipython-input-43-ec549f1bdb89>\u001b[0m in \u001b[0;36mcalculate_sob\u001b[0;34m(self, events, dec_deg, ra_deg, integrated_flux)\u001b[0m\n\u001b[1;32m     46\u001b[0m                                           \u001b[0mdeclination_deg\u001b[0m \u001b[0;34m=\u001b[0m \u001b[0mdec_deg\u001b[0m\u001b[0;34m,\u001b[0m\u001b[0;34m\u001b[0m\u001b[0;34m\u001b[0m\u001b[0m\n\u001b[1;32m     47\u001b[0m                                           \u001b[0mright_ascension_deg\u001b[0m \u001b[0;34m=\u001b[0m \u001b[0mra_deg\u001b[0m\u001b[0;34m,\u001b[0m\u001b[0;34m\u001b[0m\u001b[0;34m\u001b[0m\u001b[0m\n\u001b[0;32m---> 48\u001b[0;31m                                           integral_flux_function = integrated_flux)\n\u001b[0m\u001b[1;32m     49\u001b[0m         \u001b[0mSnllh\u001b[0m \u001b[0;34m=\u001b[0m \u001b[0mnp\u001b[0m\u001b[0;34m.\u001b[0m\u001b[0mlog\u001b[0m\u001b[0;34m(\u001b[0m\u001b[0mS\u001b[0m\u001b[0;34m)\u001b[0m\u001b[0;34m\u001b[0m\u001b[0;34m\u001b[0m\u001b[0m\n\u001b[1;32m     50\u001b[0m         \u001b[0mBnllh\u001b[0m \u001b[0;34m=\u001b[0m \u001b[0mself\u001b[0m\u001b[0;34m.\u001b[0m\u001b[0mbg_gen\u001b[0m\u001b[0;34m.\u001b[0m\u001b[0mlogpdf\u001b[0m\u001b[0;34m(\u001b[0m\u001b[0mevents\u001b[0m\u001b[0;34m[\u001b[0m\u001b[0;34m'logE'\u001b[0m\u001b[0;34m]\u001b[0m\u001b[0;34m,\u001b[0m \u001b[0mnp\u001b[0m\u001b[0;34m.\u001b[0m\u001b[0msin\u001b[0m\u001b[0;34m(\u001b[0m\u001b[0mevents\u001b[0m\u001b[0;34m[\u001b[0m\u001b[0;34m'dec'\u001b[0m\u001b[0;34m]\u001b[0m\u001b[0;34m)\u001b[0m\u001b[0;34m)\u001b[0m \u001b[0;34m-\u001b[0m \u001b[0mnp\u001b[0m\u001b[0;34m.\u001b[0m\u001b[0mlog\u001b[0m\u001b[0;34m(\u001b[0m\u001b[0;36m2\u001b[0m\u001b[0;34m*\u001b[0m\u001b[0mnp\u001b[0m\u001b[0;34m.\u001b[0m\u001b[0mpi\u001b[0m\u001b[0;34m)\u001b[0m\u001b[0;34m\u001b[0m\u001b[0;34m\u001b[0m\u001b[0m\n",
      "\u001b[0;32m/data/condor_builds/users/mlarson/public_data_trials/signal_generator.py\u001b[0m in \u001b[0;36mpdf_pointsource\u001b[0;34m(self, events, declination_deg, right_ascension_deg, integral_flux_function)\u001b[0m\n\u001b[1;32m    313\u001b[0m                       \u001b[0mnp\u001b[0m\u001b[0;34m.\u001b[0m\u001b[0marray\u001b[0m\u001b[0;34m(\u001b[0m\u001b[0mtransfer\u001b[0m\u001b[0;34m[\u001b[0m\u001b[0;34m'PSF_min[deg]'\u001b[0m\u001b[0;34m]\u001b[0m\u001b[0;34m)\u001b[0m\u001b[0;34m,\u001b[0m\u001b[0;34m\u001b[0m\u001b[0;34m\u001b[0m\u001b[0m\n\u001b[1;32m    314\u001b[0m                       \u001b[0mnp\u001b[0m\u001b[0;34m.\u001b[0m\u001b[0marray\u001b[0m\u001b[0;34m(\u001b[0m\u001b[0mtransfer\u001b[0m\u001b[0;34m[\u001b[0m\u001b[0;34m'PSF_max[deg]'\u001b[0m\u001b[0;34m]\u001b[0m\u001b[0;34m)\u001b[0m\u001b[0;34m,\u001b[0m\u001b[0;34m\u001b[0m\u001b[0;34m\u001b[0m\u001b[0m\n\u001b[0;32m--> 315\u001b[0;31m                       transfer_pdf)\n\u001b[0m\u001b[1;32m    316\u001b[0m         \u001b[0;32mreturn\u001b[0m \u001b[0mnp\u001b[0m\u001b[0;34m.\u001b[0m\u001b[0mexp\u001b[0m\u001b[0;34m(\u001b[0m\u001b[0mllh\u001b[0m\u001b[0;34m)\u001b[0m\u001b[0;34m\u001b[0m\u001b[0;34m\u001b[0m\u001b[0m\n\u001b[1;32m    317\u001b[0m \u001b[0;34m\u001b[0m\u001b[0m\n",
      "\u001b[0;32m/data/condor_builds/users/mlarson/public_data_trials/signal_generator.py\u001b[0m in \u001b[0;36mget_llh\u001b[0;34m(loge, logemin, logemax, sigma, sigmamin, sigmamax, psi, psimin, psimax, llh_values)\u001b[0m\n\u001b[1;32m     21\u001b[0m                                                       \u001b[0mpsimin\u001b[0m\u001b[0;34m,\u001b[0m\u001b[0;34m\u001b[0m\u001b[0;34m\u001b[0m\u001b[0m\n\u001b[1;32m     22\u001b[0m                                                       \u001b[0mpsimax\u001b[0m\u001b[0;34m,\u001b[0m\u001b[0;34m\u001b[0m\u001b[0;34m\u001b[0m\u001b[0m\n\u001b[0;32m---> 23\u001b[0;31m                                                       llh_values)\n\u001b[0m\u001b[1;32m     24\u001b[0m     \u001b[0mh\u001b[0m \u001b[0;34m/=\u001b[0m \u001b[0mh\u001b[0m\u001b[0;34m.\u001b[0m\u001b[0msum\u001b[0m\u001b[0;34m(\u001b[0m\u001b[0;34m)\u001b[0m\u001b[0;34m\u001b[0m\u001b[0;34m\u001b[0m\u001b[0m\n\u001b[1;32m     25\u001b[0m     h /= (np.diff(loge_bins)[:, None, None]\n",
      "\u001b[0;32m~/.local/lib/python3.7/site-packages/numba/np/arraymath.py\u001b[0m in \u001b[0;36marray_max_impl\u001b[0;34m()\u001b[0m\n\u001b[1;32m    603\u001b[0m         \u001b[0;32mdef\u001b[0m \u001b[0marray_max_impl\u001b[0m\u001b[0;34m(\u001b[0m\u001b[0marry\u001b[0m\u001b[0;34m)\u001b[0m\u001b[0;34m:\u001b[0m\u001b[0;34m\u001b[0m\u001b[0;34m\u001b[0m\u001b[0m\n\u001b[1;32m    604\u001b[0m             \u001b[0;32mif\u001b[0m \u001b[0marry\u001b[0m\u001b[0;34m.\u001b[0m\u001b[0msize\u001b[0m \u001b[0;34m==\u001b[0m \u001b[0;36m0\u001b[0m\u001b[0;34m:\u001b[0m\u001b[0;34m\u001b[0m\u001b[0;34m\u001b[0m\u001b[0m\n\u001b[0;32m--> 605\u001b[0;31m                 \u001b[0;32mraise\u001b[0m \u001b[0mValueError\u001b[0m\u001b[0;34m(\u001b[0m\u001b[0mMSG\u001b[0m\u001b[0;34m)\u001b[0m\u001b[0;34m\u001b[0m\u001b[0;34m\u001b[0m\u001b[0m\n\u001b[0m\u001b[1;32m    606\u001b[0m \u001b[0;34m\u001b[0m\u001b[0m\n\u001b[1;32m    607\u001b[0m             \u001b[0mit\u001b[0m \u001b[0;34m=\u001b[0m \u001b[0mnp\u001b[0m\u001b[0;34m.\u001b[0m\u001b[0mnditer\u001b[0m\u001b[0;34m(\u001b[0m\u001b[0marry\u001b[0m\u001b[0;34m)\u001b[0m\u001b[0;34m\u001b[0m\u001b[0;34m\u001b[0m\u001b[0m\n",
      "\u001b[0;31mValueError\u001b[0m: zero-size array to reduction operation maximum which has no identity"
     ]
    }
   ],
   "source": [
    "def powerlaw_integral_flux(emin, emax, normalization=1e-15, E0=1000, index=-2):\n",
    "    if index > 0:\n",
    "        logging.error(\"Please give a spectral index below 0\")\n",
    "        sys.exit(1)\n",
    "\n",
    "    integral = normalization/E0**index\n",
    "    if index == -1:  integral *= np.log(emax/emin)\n",
    "    elif index != -1:\n",
    "        integral *= (emax**(1+index) - emin**(1+index))/(1+index)\n",
    "    return integral\n",
    "dec_deg, ra_deg = 0, 10\n",
    "\n",
    "gen_args = [dec_deg, ra_deg, powerlaw_integral_flux]\n",
    "fit_args = [dec_deg, ra_deg, powerlaw_integral_flux]\n",
    "\n",
    "# Produce a trial!\n",
    "events = x.one_trial(*gen_args)\n",
    "\n",
    "# Calculate the sob!\n",
    "#sob = x.calculate_sob(events, *fit_args)\n",
    "\n",
    "# Fit it!\n",
    "x.fit(events, *fit_args)\n",
    "\n",
    "#fig, ax = plt.subplots()\n",
    "#ax.scatter(events['ra'], events['dec'], \n",
    "#           s = 16, \n",
    "#           marker='o',\n",
    "#           alpha=0.25\n",
    "#           )\n",
    "\n",
    "#ax.set_xlim(np.radians(ra_deg-5), np.radians(ra_deg+5))\n",
    "#ax.set_ylim(np.radians(dec_deg-5), np.radians(dec_deg+5))\n",
    "#print(events)\n",
    "#print(events.dtype.names)"
   ]
  },
  {
   "cell_type": "code",
   "execution_count": null,
   "metadata": {},
   "outputs": [],
   "source": []
  },
  {
   "cell_type": "code",
   "execution_count": null,
   "metadata": {},
   "outputs": [],
   "source": []
  },
  {
   "cell_type": "code",
   "execution_count": null,
   "metadata": {},
   "outputs": [],
   "source": []
  },
  {
   "cell_type": "code",
   "execution_count": null,
   "metadata": {},
   "outputs": [],
   "source": []
  },
  {
   "cell_type": "code",
   "execution_count": null,
   "metadata": {},
   "outputs": [],
   "source": []
  },
  {
   "cell_type": "code",
   "execution_count": null,
   "metadata": {},
   "outputs": [],
   "source": []
  },
  {
   "cell_type": "code",
   "execution_count": null,
   "metadata": {},
   "outputs": [],
   "source": []
  }
 ],
 "metadata": {
  "kernelspec": {
   "display_name": "Python 3",
   "language": "python",
   "name": "python3"
  },
  "language_info": {
   "codemirror_mode": {
    "name": "ipython",
    "version": 3
   },
   "file_extension": ".py",
   "mimetype": "text/x-python",
   "name": "python",
   "nbconvert_exporter": "python",
   "pygments_lexer": "ipython3",
   "version": "3.7.5"
  }
 },
 "nbformat": 4,
 "nbformat_minor": 4
}
